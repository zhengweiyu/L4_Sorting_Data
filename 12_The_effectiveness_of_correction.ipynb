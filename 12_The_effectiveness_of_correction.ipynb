{
 "cells": [
  {
   "cell_type": "markdown",
   "metadata": {},
   "source": [
    "# 练习: 修正有效性"
   ]
  },
  {
   "cell_type": "code",
   "execution_count": 13,
   "metadata": {
    "collapsed": false
   },
   "outputs": [],
   "source": [
    "\"\"\"\n",
    "你的任务是检查 DBPedia 自动数据文件的“productionStartYear”并获取有效的值。应该完成以下任务：\n",
    "-    检查字段“productionStartYear”是否包含年份\n",
    "-    检查该年份是否在 1886 至 2014 范围内\n",
    "-    将字段值转换为年份（而不是整个日期时间）\n",
    "-    字段的其他部分和值应该保持不变\n",
    "-    如果字段的值是如上所述范围内的有效年份，则将该行写入 output_good 文件中\n",
    "-    如果字段的值不是如上所述的有效年份，则将该行写入 output_bad 文件中\n",
    "-    你应该采用提供的数据读取和写入方式（DictReader 和 DictWriter），它们将会对标题进行处理。\n",
    "\n",
    "你可以编写辅助函数来检查数据并编写文件，但是我们将仅调用包含三个参数（inputfile、output_good、output_bad）的“process_file”文件。\n",
    "\"\"\"\n",
    "import csv\n",
    "import pprint\n",
    "from datetime import datetime\n",
    "\n",
    "INPUT_FILE = 'autos.csv'\n",
    "OUTPUT_GOOD = 'autos-valid.csv'\n",
    "OUTPUT_BAD = 'FIXME-autos.csv'\n",
    "\n",
    "def process_file(input_file, output_good, output_bad):\n",
    "\n",
    "    with open(input_file, \"r\") as f:\n",
    "        reader = csv.DictReader(f)\n",
    "        header = reader.fieldnames\n",
    "        \n",
    "        good_data = []\n",
    "        bad_data = []\n",
    "        \n",
    "        for row in reader:\n",
    "            datestring = row[\"productionStartYear\"]\n",
    "            try:\n",
    "                dt = datetime.strptime(datestring, '%Y-%m-%d %H:%M:%S')\n",
    "                print(dt.year)\n",
    "                if (dt.year >= 1886) and (dt.year <= 2014):\n",
    "                    good_data.append(row)\n",
    "                else:\n",
    "                    bad_data.append(row)\n",
    "            except Exception: \n",
    "                bad_data.append(row)\n",
    "\n",
    "    # This is just an example on how you can use csv.DictWriter\n",
    "    # Remember that you have to output 2 files\n",
    "    with open(output_good, \"w\") as g:\n",
    "        writer = csv.DictWriter(g, delimiter=\",\", fieldnames= header)\n",
    "        writer.writeheader()\n",
    "        for row in good_data:\n",
    "            writer.writerow(row)\n",
    "            \n",
    "    with open(output_bad, \"w\") as g:\n",
    "        writer = csv.DictWriter(g, delimiter=\",\", fieldnames= header)\n",
    "        writer.writeheader()\n",
    "        for row in bad_data:\n",
    "            writer.writerow(row)\n",
    "\n",
    "\n",
    "def test():\n",
    "\n",
    "    process_file(INPUT_FILE, OUTPUT_GOOD, OUTPUT_BAD)\n",
    "\n",
    "\n",
    "if __name__ == \"__main__\":\n",
    "    test()"
   ]
  }
 ],
 "metadata": {
  "kernelspec": {
   "display_name": "Python 3",
   "language": "python",
   "name": "python3"
  },
  "language_info": {
   "codemirror_mode": {
    "name": "ipython",
    "version": 3
   },
   "file_extension": ".py",
   "mimetype": "text/x-python",
   "name": "python",
   "nbconvert_exporter": "python",
   "pygments_lexer": "ipython3",
   "version": "3.4.3"
  }
 },
 "nbformat": 4,
 "nbformat_minor": 0
}
